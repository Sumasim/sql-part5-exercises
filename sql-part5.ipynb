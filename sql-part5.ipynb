{
    "metadata": {
        "kernelspec": {
            "name": "SQL",
            "display_name": "SQL",
            "language": "sql"
        },
        "language_info": {
            "name": "sql",
            "version": ""
        }
    },
    "nbformat_minor": 2,
    "nbformat": 4,
    "cells": [
        {
            "cell_type": "markdown",
            "source": [
                "# Exercises: Creating, Updating, and Destroying Objects\n",
                "\n",
                "For the exercises, you will be working with objects and data you create. Before opening this notebook, make sure that you have set up the new connection to the server and that you have located the database and your schema.\n",
                "\n",
                "## Object Creation\n",
                "\n",
                "Before coding, think of three things you want to make. These could be coding projects, new recipes, or planned projects for a woodworking hobby. Brainstorm the appropriate column names and data types as well.\n",
                "\n",
                "Create a table under your schema called `planned_makes`."
            ],
            "metadata": {
                "azdata_cell_guid": "9d51c166-0c19-4f27-a422-2a6cf596bfb2"
            },
            "attachments": {}
        },
        {
            "cell_type": "code",
            "source": [
                "-- CREATE TABLE JunkDB_STL_May2023.suma.planned_makes\r\n",
                "-- (id int primary key,\r\n",
                "-- recipe_name varchar (50) not null,\r\n",
                "-- ingredients varchar (100),\r\n",
                "-- description varchar (200))\r\n",
                "-- ; \r\n",
                "select * from JunkDB_STL_May2023.suma.planned_makes\r\n",
                ""
            ],
            "metadata": {
                "azdata_cell_guid": "d9238911-6f81-4f01-980d-b584307effaf",
                "language": "sql"
            },
            "outputs": [
                {
                    "output_type": "display_data",
                    "data": {
                        "text/html": "(0 rows affected)"
                    },
                    "metadata": {}
                },
                {
                    "output_type": "display_data",
                    "data": {
                        "text/html": "Total execution time: 00:00:00.152"
                    },
                    "metadata": {}
                },
                {
                    "output_type": "execute_result",
                    "execution_count": 8,
                    "data": {
                        "application/vnd.dataresource+json": {
                            "schema": {
                                "fields": [
                                    {
                                        "name": "id"
                                    },
                                    {
                                        "name": "recipe_name"
                                    },
                                    {
                                        "name": "ingredients"
                                    },
                                    {
                                        "name": "description"
                                    }
                                ]
                            },
                            "data": []
                        },
                        "text/html": "<table><tr><th>id</th><th>recipe_name</th><th>ingredients</th><th>description</th></tr></table>"
                    },
                    "metadata": {}
                }
            ],
            "execution_count": 8
        },
        {
            "cell_type": "markdown",
            "source": [
                "Add three rows to your table that are your planned makes."
            ],
            "metadata": {
                "azdata_cell_guid": "83cdf34d-8c4f-4fa1-a14e-77384b19d734"
            }
        },
        {
            "cell_type": "code",
            "source": [
                "-- insert into JunkDB_STL_May2023.suma.planned_makes\r\n",
                "-- (id, recipe_name, ingredients, description) VALUES\r\n",
                "-- (1, 'PaniPuri', 'cooked potato, puri, tamarind juice, onion, chillies', 'break puri add potato, chillies, onion and tamarind juice and enjoy!')\r\n",
                "\r\n",
                "-- insert into JunkDB_STL_May2023.suma.planned_makes\r\n",
                "-- (id, recipe_name, ingredients, description) VALUES\r\n",
                "-- (2, 'egg bhurji', ' potato, puri, tamarind juice, onion, chillies', 'break puri add potato, chillies, onion and tamarind juice and enjoy!'),\r\n",
                "-- (3, 'egg bhurji', ' potato, puri, tamarind juice, onion, chillies', 'break puri add potato, chillies, onion and tamarind juice and enjoy!')\r\n",
                "select * from JunkDB_STL_May2023.suma.planned_makes\r\n",
                "\r\n",
                ""
            ],
            "metadata": {
                "azdata_cell_guid": "e7cff9cb-87ba-4c7b-98f2-eaf445e8719c",
                "language": "sql"
            },
            "outputs": [
                {
                    "output_type": "display_data",
                    "data": {
                        "text/html": "(3 rows affected)"
                    },
                    "metadata": {}
                },
                {
                    "output_type": "display_data",
                    "data": {
                        "text/html": "Total execution time: 00:00:00.065"
                    },
                    "metadata": {}
                },
                {
                    "output_type": "execute_result",
                    "execution_count": 14,
                    "data": {
                        "application/vnd.dataresource+json": {
                            "schema": {
                                "fields": [
                                    {
                                        "name": "id"
                                    },
                                    {
                                        "name": "recipe_name"
                                    },
                                    {
                                        "name": "ingredients"
                                    },
                                    {
                                        "name": "description"
                                    }
                                ]
                            },
                            "data": [
                                {
                                    "id": "1",
                                    "recipe_name": "PaniPuri",
                                    "ingredients": "cooked potato, puri, tamarind juice, onion, chillies",
                                    "description": "break puri add potato, chillies, onion and tamarind juice and enjoy!"
                                },
                                {
                                    "id": "2",
                                    "recipe_name": "egg bhurji",
                                    "ingredients": " potato, puri, tamarind juice, onion, chillies",
                                    "description": "break puri add potato, chillies, onion and tamarind juice and enjoy!"
                                },
                                {
                                    "id": "3",
                                    "recipe_name": "egg bhurji",
                                    "ingredients": " potato, puri, tamarind juice, onion, chillies",
                                    "description": "break puri add potato, chillies, onion and tamarind juice and enjoy!"
                                }
                            ]
                        },
                        "text/html": "<table><tr><th>id</th><th>recipe_name</th><th>ingredients</th><th>description</th></tr><tr><td>1</td><td>PaniPuri</td><td>cooked potato, puri, tamarind juice, onion, chillies</td><td>break puri add potato, chillies, onion and tamarind juice and enjoy!</td></tr><tr><td>2</td><td>egg bhurji</td><td> potato, puri, tamarind juice, onion, chillies</td><td>break puri add potato, chillies, onion and tamarind juice and enjoy!</td></tr><tr><td>3</td><td>egg bhurji</td><td> potato, puri, tamarind juice, onion, chillies</td><td>break puri add potato, chillies, onion and tamarind juice and enjoy!</td></tr></table>"
                    },
                    "metadata": {}
                }
            ],
            "execution_count": 14
        },
        {
            "cell_type": "markdown",
            "source": [
                "## Update a Row\n",
                "\n",
                "Change different values in one of your three rows."
            ],
            "metadata": {
                "azdata_cell_guid": "4a39b8d4-ae97-4e09-8336-c5fc6a00d76c"
            },
            "attachments": {}
        },
        {
            "cell_type": "code",
            "source": [
                "-- UPDATE JunkDB_STL_May2023.suma.planned_makes\r\n",
                "-- set recipe_name = 'chapathi'\r\n",
                "-- WHERE id = 2\r\n",
                "select * from JunkDB_STL_May2023.suma.planned_makes"
            ],
            "metadata": {
                "azdata_cell_guid": "7409c695-9581-4ad8-b03a-574d2c4c87cb",
                "language": "sql"
            },
            "outputs": [
                {
                    "output_type": "display_data",
                    "data": {
                        "text/html": "(3 rows affected)"
                    },
                    "metadata": {}
                },
                {
                    "output_type": "display_data",
                    "data": {
                        "text/html": "Total execution time: 00:00:00.062"
                    },
                    "metadata": {}
                },
                {
                    "output_type": "execute_result",
                    "execution_count": 16,
                    "data": {
                        "application/vnd.dataresource+json": {
                            "schema": {
                                "fields": [
                                    {
                                        "name": "id"
                                    },
                                    {
                                        "name": "recipe_name"
                                    },
                                    {
                                        "name": "ingredients"
                                    },
                                    {
                                        "name": "description"
                                    }
                                ]
                            },
                            "data": [
                                {
                                    "id": "1",
                                    "recipe_name": "PaniPuri",
                                    "ingredients": "cooked potato, puri, tamarind juice, onion, chillies",
                                    "description": "break puri add potato, chillies, onion and tamarind juice and enjoy!"
                                },
                                {
                                    "id": "2",
                                    "recipe_name": "chapathi",
                                    "ingredients": " potato, puri, tamarind juice, onion, chillies",
                                    "description": "break puri add potato, chillies, onion and tamarind juice and enjoy!"
                                },
                                {
                                    "id": "3",
                                    "recipe_name": "egg bhurji",
                                    "ingredients": " potato, puri, tamarind juice, onion, chillies",
                                    "description": "break puri add potato, chillies, onion and tamarind juice and enjoy!"
                                }
                            ]
                        },
                        "text/html": "<table><tr><th>id</th><th>recipe_name</th><th>ingredients</th><th>description</th></tr><tr><td>1</td><td>PaniPuri</td><td>cooked potato, puri, tamarind juice, onion, chillies</td><td>break puri add potato, chillies, onion and tamarind juice and enjoy!</td></tr><tr><td>2</td><td>chapathi</td><td> potato, puri, tamarind juice, onion, chillies</td><td>break puri add potato, chillies, onion and tamarind juice and enjoy!</td></tr><tr><td>3</td><td>egg bhurji</td><td> potato, puri, tamarind juice, onion, chillies</td><td>break puri add potato, chillies, onion and tamarind juice and enjoy!</td></tr></table>"
                    },
                    "metadata": {}
                }
            ],
            "execution_count": 16
        },
        {
            "cell_type": "markdown",
            "source": [
                "## Delete a Row\n",
                "\n",
                "Delete one of the rows from your table."
            ],
            "metadata": {
                "azdata_cell_guid": "95e91a6e-9038-42d9-9401-5738842aba17"
            }
        },
        {
            "cell_type": "code",
            "source": [
                "DELETE from JunkDB_STL_May2023.suma.planned_makes\r\n",
                "WHERE id = 3\r\n",
                "SELECT * from JunkDB_STL_May2023.suma.planned_makes"
            ],
            "metadata": {
                "azdata_cell_guid": "749c748f-19b5-4c69-9004-b6b20216616a",
                "language": "sql"
            },
            "outputs": [
                {
                    "output_type": "display_data",
                    "data": {
                        "text/html": "(0 rows affected)"
                    },
                    "metadata": {}
                },
                {
                    "output_type": "display_data",
                    "data": {
                        "text/html": "(2 rows affected)"
                    },
                    "metadata": {}
                },
                {
                    "output_type": "display_data",
                    "data": {
                        "text/html": "Total execution time: 00:00:00.068"
                    },
                    "metadata": {}
                },
                {
                    "output_type": "execute_result",
                    "execution_count": 18,
                    "data": {
                        "application/vnd.dataresource+json": {
                            "schema": {
                                "fields": [
                                    {
                                        "name": "id"
                                    },
                                    {
                                        "name": "recipe_name"
                                    },
                                    {
                                        "name": "ingredients"
                                    },
                                    {
                                        "name": "description"
                                    }
                                ]
                            },
                            "data": [
                                {
                                    "id": "1",
                                    "recipe_name": "PaniPuri",
                                    "ingredients": "cooked potato, puri, tamarind juice, onion, chillies",
                                    "description": "break puri add potato, chillies, onion and tamarind juice and enjoy!"
                                },
                                {
                                    "id": "2",
                                    "recipe_name": "chapathi",
                                    "ingredients": " potato, puri, tamarind juice, onion, chillies",
                                    "description": "break puri add potato, chillies, onion and tamarind juice and enjoy!"
                                }
                            ]
                        },
                        "text/html": "<table><tr><th>id</th><th>recipe_name</th><th>ingredients</th><th>description</th></tr><tr><td>1</td><td>PaniPuri</td><td>cooked potato, puri, tamarind juice, onion, chillies</td><td>break puri add potato, chillies, onion and tamarind juice and enjoy!</td></tr><tr><td>2</td><td>chapathi</td><td> potato, puri, tamarind juice, onion, chillies</td><td>break puri add potato, chillies, onion and tamarind juice and enjoy!</td></tr></table>"
                    },
                    "metadata": {}
                }
            ],
            "execution_count": 18
        },
        {
            "cell_type": "markdown",
            "source": [
                "## Drop the Table\n",
                "\n",
                "While this has been fun, it is time to drop the table!"
            ],
            "metadata": {
                "azdata_cell_guid": "2239cb09-137b-4579-905b-1aa020793181"
            },
            "attachments": {}
        },
        {
            "cell_type": "code",
            "source": [
                "drop JunkDB_STL_May2023.suma.planned_makes"
            ],
            "metadata": {
                "azdata_cell_guid": "b3c7f6ea-ee26-46b3-9c2a-2f7a82c39699",
                "language": "sql"
            },
            "outputs": [
                {
                    "output_type": "error",
                    "evalue": "Msg 343, Level 15, State 1, Line 1\r\nUnknown object type 'JunkDB_STL_May2023' used in a CREATE, DROP, or ALTER statement.",
                    "ename": "",
                    "traceback": []
                },
                {
                    "output_type": "display_data",
                    "data": {
                        "text/html": "Total execution time: 00:00:00.044"
                    },
                    "metadata": {}
                }
            ],
            "execution_count": 1
        }
    ]
}